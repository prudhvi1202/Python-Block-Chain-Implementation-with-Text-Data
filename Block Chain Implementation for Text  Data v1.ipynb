{
 "cells": [
  {
   "cell_type": "markdown",
   "id": "a2a36090",
   "metadata": {},
   "source": [
    "# Block Chain Implementation for Text data "
   ]
  },
  {
   "cell_type": "markdown",
   "id": "71ed6dcd",
   "metadata": {},
   "source": [
    "#### Follow all the Instruction below to Create a Block Chain with python for text data immutability"
   ]
  },
  {
   "cell_type": "markdown",
   "id": "d3afb4aa",
   "metadata": {},
   "source": [
    "This content is just for Block Chian Entusiast to explore block chain implementation for Textbased Data\n",
    "\n",
    "The Notes, assumes that you are comfortable writing python script, and know basic theoritical idea of Block Chain Implementation, e.g each block consist of Hash  of previous block and data, and so on, if one block text is changed the rest of the hash values doestn't match on the Block chain"
   ]
  },
  {
   "cell_type": "markdown",
   "id": "ba195adb",
   "metadata": {},
   "source": [
    "Install Crptography Module with below cell, if not yet installed so far. "
   ]
  },
  {
   "cell_type": "code",
   "execution_count": null,
   "id": "cd5dbd13",
   "metadata": {},
   "outputs": [],
   "source": [
    "!pip install cryptography"
   ]
  },
  {
   "cell_type": "markdown",
   "id": "cb951c03",
   "metadata": {},
   "source": [
    "install MongoDB on our Desktop, because this implementaiton uses the MongoDB Desktop Data base to store the Text and Hash values and create Block Chain \n",
    "\n",
    "You can install the community edition of MongoDB from here : https://www.mongodb.com/try/download/community\n",
    "\n",
    "while installing select for mongodb compass(GUI access of Data Base) also very useful. \n",
    "\n",
    "Run below Cell to install MongoDb driver for Python"
   ]
  },
  {
   "cell_type": "code",
   "execution_count": null,
   "id": "ecf4d7bb",
   "metadata": {},
   "outputs": [],
   "source": [
    "!pip install pymongo[srv] #install MongoDB driver"
   ]
  },
  {
   "cell_type": "code",
   "execution_count": 1,
   "id": "fe443322",
   "metadata": {},
   "outputs": [],
   "source": [
    "#connect to MongoDB to store your Data and Hash\n",
    "import pymongo\n",
    "myclient=pymongo.MongoClient(\"mongodb://localhost:27017/\")\n",
    "mydb=myclient[\"FirstDataBase\"] #Creats a Data Base, if it don't not exit\n",
    "\n",
    "mycol1=mydb[\"TextHashCaseStudyv2\"] #Creates a Collection"
   ]
  },
  {
   "cell_type": "code",
   "execution_count": 2,
   "id": "2ed19dd4",
   "metadata": {},
   "outputs": [],
   "source": [
    "#imports the Crypographic libraries which are hash functions\n",
    "from cryptography.hazmat.backends import default_backend\n",
    "from cryptography.hazmat.primitives import hashes"
   ]
  },
  {
   "cell_type": "markdown",
   "id": "aaaa3685",
   "metadata": {},
   "source": [
    "The Implementation uses, the TKinter as front-end to receive text data from user and create it hash and store it on MongoDB"
   ]
  },
  {
   "cell_type": "markdown",
   "id": "adb430a9",
   "metadata": {},
   "source": [
    "### Instruction to while creating blocks"
   ]
  },
  {
   "cell_type": "markdown",
   "id": "0bb37e95",
   "metadata": {},
   "source": [
    "Enter the Text in one field and another is Parent Block number, Initially it is 0 ( which is Root block).\n",
    "\n",
    "then later on window will keep refresh to enter as many as Text blocks, keep entering the text box and mentioned the right block number, if you enter a block number, which is not yet created it, will throw an error.\n"
   ]
  },
  {
   "cell_type": "code",
   "execution_count": 3,
   "id": "84ae867c",
   "metadata": {
    "collapsed": true
   },
   "outputs": [
    {
     "name": "stdout",
     "output_type": "stream",
     "text": [
      "The data is :  First Trasaction of the Day\n",
      "the name type: <class 'str'>\n",
      "The parent Block Number is :  0\n",
      "the Block type: <class 'int'>\n",
      "The data is :  Send 100 to Mr. Ravi\n",
      "the name type: <class 'str'>\n",
      "The parent Block Number is :  1\n",
      "the Block type: <class 'int'>\n",
      "The data is :  Send 200 to Raj \n",
      "the name type: <class 'str'>\n",
      "The parent Block Number is :  2\n",
      "the Block type: <class 'int'>\n",
      "The data is :  rejection of 200\n",
      "the name type: <class 'str'>\n",
      "The parent Block Number is :  3\n",
      "the Block type: <class 'int'>\n",
      "The data is :  Accepted 200\n",
      "the name type: <class 'str'>\n",
      "The parent Block Number is :  4\n",
      "the Block type: <class 'int'>\n",
      "The data is :  Ravi gave back money\n",
      "the name type: <class 'str'>\n",
      "The parent Block Number is :  1\n",
      "the Block type: <class 'int'>\n"
     ]
    }
   ],
   "source": [
    "#Generate Data and it's hash and store it in Data Base.\n",
    "\n",
    "import tkinter as tk\n",
    "  \n",
    "root=tk.Tk()\n",
    "\n",
    "# setting the windows size\n",
    "root.geometry(\"600x400\")\n",
    "  \n",
    "# declaring string variable\n",
    "# for storing name and password\n",
    "data_var=tk.StringVar()\n",
    "bn_var=tk.StringVar()\n",
    "record={}\n",
    "idNumber=1\n",
    "class CBlock:\n",
    "    data=None\n",
    "    previousHash=None\n",
    "    #CurrentHash=None\n",
    "    previousBlock=None\n",
    "    def __init__(self,data,previousBlock):\n",
    "        self.data=data\n",
    "        self.previousBlock=previousBlock\n",
    "        if(previousBlock!=None):\n",
    "            self.previousHash=previousBlock.computeHash()\n",
    "    def computeHash(self):\n",
    "        digest = hashes.Hash(hashes.SHA256())\n",
    "        digest.update(bytes(str(self.data),'utf-8'))# while converting to Bytes, provid encoding\n",
    "        digest.update(bytes(str(self.previousHash),'utf8'))\n",
    "        return digest.finalize()\n",
    "    \n",
    "    \n",
    "def CreateWindow():\n",
    "    name_label = tk.Label(root, text = 'Block Data', font=('calibre',10, 'bold'))\n",
    "  \n",
    "    # creating a entry for input\n",
    "    # name using widget Entry\n",
    "    name_entry = tk.Entry(root,textvariable = data_var, font=('calibre',10,'normal'))\n",
    "\n",
    "    # creating a label for password\n",
    "    passw_label = tk.Label(root, text = 'Parent Block Number', font = ('calibre',10,'bold'))\n",
    "\n",
    "    # creating a entry for password\n",
    "    passw_entry=tk.Entry(root, textvariable = bn_var, font = ('calibre',10,'normal') )\n",
    "\n",
    "    # creating a button using the widget\n",
    "    # Button that will call the submit function\n",
    "    sub_btn=tk.Button(root,text = 'Click To Create Block', command = CreateBlock)\n",
    "\n",
    "    # placing the label and entry in\n",
    "    # the required position using grid\n",
    "    # method\n",
    "    name_label.grid(row=0,column=0)\n",
    "    name_entry.grid(row=0,column=1)\n",
    "    passw_label.grid(row=1,column=0)\n",
    "    passw_entry.grid(row=1,column=1)\n",
    "    sub_btn.grid(row=2,column=1)\n",
    "\n",
    "    # performing an infinite loop\n",
    "    # for the window to display\n",
    "    \n",
    "def CreateBlock():\n",
    "    global idNumber\n",
    "    BlockData=data_var.get() #data variable\n",
    "    BlockIndex=bn_var.get() #block number variable\n",
    "    blockNumber=int(BlockIndex) \n",
    "    print(\"The data is : \", BlockData)\n",
    "   # print(\"the name type:\",type(BlockIndex))\n",
    "    print(\"The parent Block Number is : \" ,blockNumber )\n",
    "   # print(\"the Block type:\",type(blockNumber))\n",
    "    print(\"present Block number is :\",idNumber)\n",
    "    data_var.set(\"\")\n",
    "    bn_var.set(\"\")\n",
    "    \n",
    "    TempObject=CBlock(BlockData,BlockList[blockNumber])\n",
    "    #TempObject.data\n",
    "    #TempObject.previousHash\n",
    "    \n",
    "    record[\"parentBlock\"]=blockNumber\n",
    "    record[\"presentBlockNumber\"]=idNumber\n",
    "    #record[\"blockObject\"]=TempObject\n",
    "    record[\"previousHash\"]=TempObject.previousHash\n",
    "    record[\"data\"]=TempObject.data\n",
    "    \n",
    "    \n",
    "    mycol1.insert_one(record)\n",
    "    \n",
    "    record.clear()\n",
    "    idNumber=idNumber+1\n",
    "    BlockList.append(TempObject)\n",
    "    root.update()\n",
    "def Root():\n",
    "    Broot=CBlock(\"I am Root\",None) #Block Chain root Block\n",
    "    BlockList.append(Broot)\n",
    "    \n",
    "    record[\"parentBlock\"]=0 #he himself is the parent no one is parent for him.\n",
    "    record[\"presentBlockNumber\"]=0\n",
    "    #record[\"blockObject\"]=Broot\n",
    "    record[\"previousHash\"]=Broot.previousHash\n",
    "    record[\"data\"]=Broot.data\n",
    "    \n",
    "    mycol1.insert_one(record)\n",
    "    record.clear()\n",
    "    \n",
    "if __name__==\"__main__\": \n",
    "    global mycol1\n",
    "    BlockList=[]\n",
    "    Root()\n",
    "    CreateWindow()\n",
    "    root.mainloop() #Tkinter root Object\n",
    "#Only problem here is just update the grid value then all the values will be visible\n",
    "#then the created block are visible on the Screen.\n",
    "\n",
    "#extend this problem to store the data in MongoDB Data Base."
   ]
  },
  {
   "cell_type": "markdown",
   "id": "5c87b7d5",
   "metadata": {},
   "source": [
    "Once the blocks of Text is created with it's connection, we need to validate the integrity of the text sroted in Data Base.\n",
    "\n",
    "Every time when the below cell runs, it fetch the Data from Data Base and check for its validity based on Block Chain concept."
   ]
  },
  {
   "cell_type": "code",
   "execution_count": 4,
   "id": "c1be9c16",
   "metadata": {
    "collapsed": true
   },
   "outputs": [
    {
     "name": "stdout",
     "output_type": "stream",
     "text": [
      "[0, 0, 1, 2, 3, 4, 1]\n",
      "yes\n",
      "yes\n",
      "yes\n",
      "yes\n",
      "yes\n",
      "[0, 0, 1, 2, 3, 4, 1]\n",
      "yes\n",
      "yes\n",
      "yes\n",
      "yes\n",
      "yes\n",
      "[0, 0, 1, 2, 3, 4, 1]\n",
      "yes\n",
      "yes\n",
      "Block number  3  is changed\n",
      "yes\n",
      "yes\n",
      "[0, 0, 1, 2, 3, 4, 1]\n",
      "yes\n",
      "yes\n",
      "Block number  3  is changed\n",
      "yes\n",
      "yes\n",
      "[0, 0, 1, 2, 3, 4, 1]\n",
      "yes\n",
      "yes\n",
      "yes\n",
      "yes\n",
      "yes\n",
      "[0, 0, 1, 2, 3, 4, 1]\n",
      "yes\n",
      "yes\n",
      "yes\n",
      "yes\n",
      "yes\n"
     ]
    }
   ],
   "source": [
    "#display and validate the Hash Values, to Immutability\n",
    "\n",
    "import tkinter as tk\n",
    "  \n",
    "root=tk.Tk()\n",
    "global ImmuteStatus \n",
    "# setting the windows size\n",
    "root.geometry(\"800x600\")\n",
    "\n",
    "stat=tk.StringVar()\n",
    "stat.set(\"Not Completed the validation\")\n",
    "\n",
    "\n",
    "def computeHash2(data,previousHash):\n",
    "        digest = hashes.Hash(hashes.SHA256())\n",
    "        digest.update(bytes(str(data),'utf-8'))# while converting to Bytes, provid encoding\n",
    "        digest.update(bytes(str(previousHash),'utf8'))\n",
    "        return digest.finalize()\n",
    "def verification():\n",
    "    ImmuteStatus =True\n",
    "    corruptBlock=0\n",
    "    global stat\n",
    "    data=[]\n",
    "    datahash=[]\n",
    "    parentBlock=[]\n",
    "    for x in mycol1.find({},{\"_id\":0}):\n",
    "        data.append(x['data'])\n",
    "        datahash.append(x['previousHash'])\n",
    "        parentBlock.append(x['parentBlock'])\n",
    "    #print(parentBlock)\n",
    "    for i in range(1,len(data)-1):\n",
    "        if(datahash[i]==computeHash2(data[parentBlock[i]],datahash[parentBlock[i]])):\n",
    "            print(\"yes\")\n",
    "        else:\n",
    "            print(\"Block number \",i, \" is changed\")\n",
    "            curruptBlock=i-1\n",
    "            ImmuteStatus=False\n",
    "    if(ImmuteStatus==True):\n",
    "        stat.set(\"Success\")\n",
    "        root.update()\n",
    "    else:\n",
    "        stat.set(\"Validation Failed, Data Modified at Block Number \"+str(curruptBlock))\n",
    "        root.update()\n",
    "tk.Label(root, text = \"ParentBlockNumber\", font=('calibre',10, 'bold')).grid(row=0,column=0)\n",
    "tk.Label(root, text = \"PresentBlockNumber\", font=('calibre',10, 'bold')).grid(row=0,column=1)\n",
    "tk.Label(root, text = \"PreviousHash\", font=('calibre',10, 'bold')).grid(row=0,column=2)\n",
    "tk.Label(root, text = \"PresentTextblock\", font=('calibre',10, 'bold')).grid(row=0,column=3)\n",
    "\n",
    "rNumber=2\n",
    "for x in mycol1.find({},{\"_id\":0}):\n",
    "    tk.Label(root, text = x['parentBlock'], font=('calibre',10, 'bold')).grid(row=rNumber,column=0)\n",
    "    tk.Label(root, text = x['presentBlockNumber'], font=('calibre',10, 'bold')).grid(row=rNumber,column=1)\n",
    "    tk.Label(root, text = x['previousHash'], font=('calibre',10, 'bold')).grid(row=rNumber,column=2)\n",
    "    tk.Label(root, text = x['data'], font=('calibre',10, 'bold')).grid(row=rNumber,column=3)\n",
    "    rNumber=rNumber+1\n",
    "sub=tk.Button(root,text = 'Validate', command = verification).grid(row=rNumber+1,column=1)\n",
    "\n",
    "result1=tk.Label(root, textvariable = stat, font=('calibre',10, 'bold')).grid(row=rNumber+2,column=2)\n",
    "\n",
    "#root.bind('<Return>', verification)\n",
    "root.mainloop()\n",
    "\n",
    "#create a variable and upate the content of the text int he Label of final result. Finish it tomorro and finalize it and upload in Github."
   ]
  },
  {
   "cell_type": "code",
   "execution_count": null,
   "id": "7d710276",
   "metadata": {},
   "outputs": [],
   "source": []
  }
 ],
 "metadata": {
  "kernelspec": {
   "display_name": "Python 3",
   "language": "python",
   "name": "python3"
  },
  "language_info": {
   "codemirror_mode": {
    "name": "ipython",
    "version": 3
   },
   "file_extension": ".py",
   "mimetype": "text/x-python",
   "name": "python",
   "nbconvert_exporter": "python",
   "pygments_lexer": "ipython3",
   "version": "3.8.8"
  }
 },
 "nbformat": 4,
 "nbformat_minor": 5
}
